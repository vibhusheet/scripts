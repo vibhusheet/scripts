{
 "cells": [
  {
   "cell_type": "markdown",
   "metadata": {},
   "source": [
    "RL - 10 armed - Multi Armed Bandit simulation\n",
    "\n",
    "\n",
    "2000 copies of bandit each simulated for 1000 steps\n",
    "\n",
    "Box Muller method for Simulation N(0,1) generation - generation code referred online\n",
    "\n",
    "Action\tAt = { argmax Q(t) w.p (1-epsilon)\n",
    "\t\t\t { any random arm w.p epsilon/k (for k arms)\n",
    "\n",
    "Output - Plots over epsilon value ranging between [0, 0.01, 0.1, 0.2]\n",
    "(for y axis over x axis)\n",
    "1) Avg reward over # of steps across various epsilons\n",
    "2) % of time that optimal action is picked over # of steps\n",
    "\n",
    "** Note - For each bandit's copy - first 5 times each arm would be explored under explicit exploration steps"
   ]
  },
  {
   "cell_type": "code",
   "execution_count": 1,
   "metadata": {},
   "outputs": [],
   "source": [
    "from numpy import random, sqrt, log, sin, cos, pi\n",
    "from functools import wraps\n",
    "from multiprocessing import Pool\n",
    "import tqdm\n",
    "import time\n",
    "import pandas as pd\n",
    "\n",
    "_NUMBER_OF_ARMS = 10\n",
    "_SIMULATION_STEPS = 1000\n",
    "_COPIES_OF_BANDITS = 2000\n",
    "_INITIAL_EXPLORATION_STEPSIZE = 5 # for each arm\n",
    "_EPSILON_SEQUENCE = [0, 0.01, 0.1, 0.2] # list of epsilons to try out"
   ]
  },
  {
   "cell_type": "code",
   "execution_count": 2,
   "metadata": {},
   "outputs": [],
   "source": [
    "def timed(func):\n",
    "    \"\"\"This decorator prints the execution time for the decorated function.\"\"\"\n",
    "    @wraps(func)\n",
    "    def wrapper(*args, **kwargs):\n",
    "        start = time.time()\n",
    "        result = func(*args, **kwargs)\n",
    "        end = time.time()\n",
    "        print(\"{} ran in {}s\".format(func.__name__, round(end - start, 2)))\n",
    "        return result\n",
    "    return wrapper"
   ]
  },
  {
   "cell_type": "code",
   "execution_count": 3,
   "metadata": {},
   "outputs": [],
   "source": [
    "def _box_muller(u1,u2):\n",
    "    z1 = sqrt(-2*log(u1))*cos(2*pi*u2)\n",
    "    z2 = sqrt(-2*log(u1))*sin(2*pi*u2)\n",
    "    return z1,z2\n",
    "\n",
    "\n",
    "def _get_distribution():\n",
    "\trandom.seed() # set a random seed\n",
    "\tu1 = random.rand(_SIMULATION_STEPS)\n",
    "\tu2 = random.rand(_SIMULATION_STEPS)\n",
    "\n",
    "\tz1,z2 = _box_muller(u1, u2)\n",
    "\treturn z2\n",
    "\n",
    "\n",
    "def init_bandit_reward_distribution():\n",
    "\tdf = pd.DataFrame()\n",
    "\tfor i in range(0, _NUMBER_OF_ARMS):\n",
    "\t\tdf[str(i)+'_arm'] = _get_distribution()\n",
    "\treturn df"
   ]
  },
  {
   "cell_type": "code",
   "execution_count": 4,
   "metadata": {},
   "outputs": [],
   "source": [
    "def _argmax_Qt_implementation(df, relevant_cols):\n",
    "\t\"given rewards obtained for all arm, find column with max reward\"\n",
    "\treturn df[relevant_cols].mean(axis=0).idxmax()\n",
    "\n",
    "\n",
    "def epsilon_greedy_strategy(df, epsilon, relevant_cols):\n",
    "\tif random.random() < (1 - epsilon):\n",
    "\t\t# argmax\n",
    "\t\treturn _argmax_Qt_implementation(df, relevant_cols)\n",
    "\telse:\n",
    "\t\t# random column for arm\n",
    "\t\treturn str(random.randint(0, _NUMBER_OF_ARMS)) + '_arm'\n",
    "\n",
    "\n",
    "def run_simulation(kwargs):\n",
    "\n",
    "\t# get bandit rewards distribution\n",
    "\tbandit_reward_distribution_df = init_bandit_reward_distribution()\n",
    "\n",
    "\t# Initial few times each arm would be explored under explicit exploration (discussed in class)\n",
    "\t# Here I assume we have these rewards pre-present in DF\n",
    "\tbandit_simulation_df = bandit_reward_distribution_df[:_INITIAL_EXPLORATION_STEPSIZE-1].copy()\n",
    "\n",
    "\t# rename columns\n",
    "\tarms_list = [str(i)+'_arm' for i in range(0, _NUMBER_OF_ARMS)]\n",
    "\tbandit_simulation_df.columns = arms_list\n",
    "\t# capture current action, optimal action state (used in plots)\n",
    "\tbandit_simulation_df['action'] = 'exploration'\n",
    "\tbandit_simulation_df['is_optimal_action'] = 'exploration'\n",
    "\n",
    "\t# simulating from inital exploration onwards to the # of simulation steps\n",
    "\tfor index in range(_INITIAL_EXPLORATION_STEPSIZE, _SIMULATION_STEPS):\n",
    "\n",
    "\t\taction_taken = epsilon_greedy_strategy(bandit_simulation_df, kwargs['epsilon'], arms_list)\n",
    "\t\treward_received = bandit_reward_distribution_df[action_taken][index]\n",
    "\n",
    "\t\t# initialize empty reward state and assign reward for action\n",
    "\t\tcurr_instance = {arm:0 for arm in arms_list}\n",
    "\t\tcurr_instance[action_taken] = reward_received\n",
    "\n",
    "\t\t# map action\n",
    "\t\tcurr_instance['action'] = action_taken\n",
    "\t\t# find optimal action from reward distribution of bandit at instance of current index\n",
    "\t\toptimal_action = _argmax_Qt_implementation(bandit_reward_distribution_df[:index], arms_list)\n",
    "\t\tcurr_instance['is_optimal_action'] = int(action_taken == optimal_action)  # True/False as 1/0\n",
    "\n",
    "\t\t# append instance to simulation DF\n",
    "\t\tbandit_simulation_df = bandit_simulation_df.append([curr_instance], ignore_index=True)\n",
    "\n",
    "\tbandit_simulation_df['epsilon'] = kwargs['epsilon']\n",
    "\tbandit_simulation_df['index'] = kwargs['index']\n",
    "\tbandit_simulation_df['row_total_reward'] = bandit_simulation_df[arms_list].sum(axis=1)\n",
    "\tbandit_simulation_df['cumsum_total_reward'] = bandit_simulation_df['row_total_reward'].cumsum()\n",
    "\treturn bandit_simulation_df"
   ]
  },
  {
   "cell_type": "code",
   "execution_count": 5,
   "metadata": {},
   "outputs": [],
   "source": [
    "def init_simulation_space():\n",
    "\n",
    "\tsimulation_df_list = []\n",
    "\tepsilon_mapping_list = _EPSILON_SEQUENCE\n",
    "\tepsilon_map_length = len(epsilon_mapping_list)\n",
    "\tkwargs = [{'epsilon':epsilon_mapping_list[index%epsilon_map_length], 'index':index} for index in range(0, _COPIES_OF_BANDITS)]\n",
    "\n",
    "\tfor index in range(0, _COPIES_OF_BANDITS):\n",
    "\n",
    "\t\tsimulation_df = run_simulation(kwargs[index])\n",
    "\n",
    "\t\tsimulation_df_list.append(simulation_df)\n",
    "\t\tprint('simulation iteration: ', index)\n",
    "\n",
    "\tbandit_simulation_data_df = pd.concat(simulation_df_list)\n",
    "\treturn bandit_simulation_data_df\n",
    "\n",
    "# using multiprocessing to speed up execution\n",
    "# using tqdm to visualise a progress bar\n",
    "def init_parallel_simulation_space():\n",
    "\tsimulation_df_list = []\n",
    "\tepsilon_mapping_list = _EPSILON_SEQUENCE\n",
    "\tepsilon_map_length = len(epsilon_mapping_list)\n",
    "\n",
    "\tpool = Pool()\n",
    "\n",
    "\tkwargs = [{'epsilon':epsilon_mapping_list[index%epsilon_map_length], 'index':index} for index in range(0, _COPIES_OF_BANDITS)]\n",
    "\tfor x in tqdm.tqdm(pool.imap_unordered(run_simulation, kwargs), total=len(kwargs)):\n",
    "\t\tsimulation_df_list.append(x)\n",
    "\n",
    "\tbandit_simulation_data_df = pd.concat(simulation_df_list)\n",
    "\treturn bandit_simulation_data_df"
   ]
  },
  {
   "cell_type": "code",
   "execution_count": 6,
   "metadata": {},
   "outputs": [
    {
     "name": "stderr",
     "output_type": "stream",
     "text": [
      "100%|██████████| 2000/2000 [1:14:58<00:00,  2.25s/it]\n"
     ]
    }
   ],
   "source": [
    "df = init_parallel_simulation_space()\n",
    "# total time taken 1.14 Hrs"
   ]
  },
  {
   "cell_type": "code",
   "execution_count": 7,
   "metadata": {},
   "outputs": [
    {
     "data": {
      "text/plain": [
       "1998000"
      ]
     },
     "execution_count": 7,
     "metadata": {},
     "output_type": "execute_result"
    }
   ],
   "source": [
    "len(df)"
   ]
  },
  {
   "cell_type": "code",
   "execution_count": 8,
   "metadata": {},
   "outputs": [],
   "source": [
    "df = df[df['action']!='exploration'] # ignore initial explicit exploration phase"
   ]
  },
  {
   "cell_type": "code",
   "execution_count": 9,
   "metadata": {},
   "outputs": [
    {
     "data": {
      "text/plain": [
       "<matplotlib.axes._subplots.AxesSubplot at 0x7f6775932be0>"
      ]
     },
     "execution_count": 9,
     "metadata": {},
     "output_type": "execute_result"
    }
   ],
   "source": [
    "# total reward at each step for all bandits\n",
    "df.reset_index().plot(x='level_0', y='cumsum_total_reward', kind='line')"
   ]
  },
  {
   "cell_type": "code",
   "execution_count": 10,
   "metadata": {},
   "outputs": [
    {
     "data": {
      "text/plain": [
       "<matplotlib.axes._subplots.AxesSubplot at 0x7f67758723c8>"
      ]
     },
     "execution_count": 10,
     "metadata": {},
     "output_type": "execute_result"
    },
    {
     "data": {
      "image/png": "[encoded data removed]",
      "text/plain": [
       "<Figure size 432x288 with 1 Axes>"
      ]
     },
     "metadata": {
      "needs_background": "light"
     },
     "output_type": "display_data"
    }
   ],
   "source": [
    "# Avg reward over each step across various epsilons\n",
    "df.reset_index().groupby(['level_0', 'epsilon']).mean().reset_index().pivot(index='level_0', columns='epsilon', values='cumsum_total_reward').plot()"
   ]
  },
  {
   "cell_type": "code",
   "execution_count": 11,
   "metadata": {},
   "outputs": [
    {
     "data": {
      "text/plain": [
       "<matplotlib.axes._subplots.AxesSubplot at 0x7f67757e55f8>"
      ]
     },
     "execution_count": 11,
     "metadata": {},
     "output_type": "execute_result"
    },
    {
     "data": {
      "image/png": "[encoded data removed]",
      "text/plain": [
       "<Figure size 432x288 with 1 Axes>"
      ]
     },
     "metadata": {
      "needs_background": "light"
     },
     "output_type": "display_data"
    }
   ],
   "source": [
    "# number of times optimal action is chosen\n",
    "df.reset_index().groupby(['level_0', 'epsilon'])[['is_optimal_action']].sum().reset_index().pivot(index='level_0', columns='epsilon', values='is_optimal_action').plot(kind='line')"
   ]
  },
  {
   "cell_type": "code",
   "execution_count": 12,
   "metadata": {},
   "outputs": [
    {
     "data": {
      "text/html": [
       "<div>\n",
       "<style scoped>\n",
       "    .dataframe tbody tr th:only-of-type {\n",
       "        vertical-align: middle;\n",
       "    }\n",
       "\n",
       "    .dataframe tbody tr th {\n",
       "        vertical-align: top;\n",
       "    }\n",
       "\n",
       "    .dataframe thead th {\n",
       "        text-align: right;\n",
       "    }\n",
       "</style>\n",
       "<table border=\"1\" class=\"dataframe\">\n",
       "  <thead>\n",
       "    <tr style=\"text-align: right;\">\n",
       "      <th></th>\n",
       "      <th>0_arm</th>\n",
       "      <th>1_arm</th>\n",
       "      <th>2_arm</th>\n",
       "      <th>3_arm</th>\n",
       "      <th>4_arm</th>\n",
       "      <th>5_arm</th>\n",
       "      <th>6_arm</th>\n",
       "      <th>7_arm</th>\n",
       "      <th>8_arm</th>\n",
       "      <th>9_arm</th>\n",
       "      <th>action</th>\n",
       "      <th>is_optimal_action</th>\n",
       "      <th>epsilon</th>\n",
       "      <th>index</th>\n",
       "      <th>row_total_reward</th>\n",
       "      <th>cumsum_total_reward</th>\n",
       "    </tr>\n",
       "  </thead>\n",
       "  <tbody>\n",
       "    <tr>\n",
       "      <th>4</th>\n",
       "      <td>0.0</td>\n",
       "      <td>0.0</td>\n",
       "      <td>0.000000</td>\n",
       "      <td>0.0</td>\n",
       "      <td>0.643719</td>\n",
       "      <td>0.0</td>\n",
       "      <td>0.0</td>\n",
       "      <td>0.0</td>\n",
       "      <td>0.0</td>\n",
       "      <td>0.0</td>\n",
       "      <td>4_arm</td>\n",
       "      <td>0</td>\n",
       "      <td>0.2</td>\n",
       "      <td>3</td>\n",
       "      <td>0.643719</td>\n",
       "      <td>-0.326920</td>\n",
       "    </tr>\n",
       "    <tr>\n",
       "      <th>5</th>\n",
       "      <td>0.0</td>\n",
       "      <td>0.0</td>\n",
       "      <td>0.000000</td>\n",
       "      <td>0.0</td>\n",
       "      <td>-0.234494</td>\n",
       "      <td>0.0</td>\n",
       "      <td>0.0</td>\n",
       "      <td>0.0</td>\n",
       "      <td>0.0</td>\n",
       "      <td>0.0</td>\n",
       "      <td>4_arm</td>\n",
       "      <td>1</td>\n",
       "      <td>0.2</td>\n",
       "      <td>3</td>\n",
       "      <td>-0.234494</td>\n",
       "      <td>-0.561414</td>\n",
       "    </tr>\n",
       "    <tr>\n",
       "      <th>6</th>\n",
       "      <td>0.0</td>\n",
       "      <td>0.0</td>\n",
       "      <td>-0.962375</td>\n",
       "      <td>0.0</td>\n",
       "      <td>0.000000</td>\n",
       "      <td>0.0</td>\n",
       "      <td>0.0</td>\n",
       "      <td>0.0</td>\n",
       "      <td>0.0</td>\n",
       "      <td>0.0</td>\n",
       "      <td>2_arm</td>\n",
       "      <td>0</td>\n",
       "      <td>0.2</td>\n",
       "      <td>3</td>\n",
       "      <td>-0.962375</td>\n",
       "      <td>-1.523789</td>\n",
       "    </tr>\n",
       "    <tr>\n",
       "      <th>7</th>\n",
       "      <td>0.0</td>\n",
       "      <td>0.0</td>\n",
       "      <td>0.000000</td>\n",
       "      <td>0.0</td>\n",
       "      <td>1.632069</td>\n",
       "      <td>0.0</td>\n",
       "      <td>0.0</td>\n",
       "      <td>0.0</td>\n",
       "      <td>0.0</td>\n",
       "      <td>0.0</td>\n",
       "      <td>4_arm</td>\n",
       "      <td>0</td>\n",
       "      <td>0.2</td>\n",
       "      <td>3</td>\n",
       "      <td>1.632069</td>\n",
       "      <td>0.108280</td>\n",
       "    </tr>\n",
       "    <tr>\n",
       "      <th>8</th>\n",
       "      <td>0.0</td>\n",
       "      <td>0.0</td>\n",
       "      <td>0.000000</td>\n",
       "      <td>0.0</td>\n",
       "      <td>0.858029</td>\n",
       "      <td>0.0</td>\n",
       "      <td>0.0</td>\n",
       "      <td>0.0</td>\n",
       "      <td>0.0</td>\n",
       "      <td>0.0</td>\n",
       "      <td>4_arm</td>\n",
       "      <td>0</td>\n",
       "      <td>0.2</td>\n",
       "      <td>3</td>\n",
       "      <td>0.858029</td>\n",
       "      <td>0.966310</td>\n",
       "    </tr>\n",
       "  </tbody>\n",
       "</table>\n",
       "</div>"
      ],
      "text/plain": [
       "   0_arm  1_arm     2_arm  3_arm     4_arm  5_arm  6_arm  7_arm  8_arm  9_arm  \\\n",
       "4    0.0    0.0  0.000000    0.0  0.643719    0.0    0.0    0.0    0.0    0.0   \n",
       "5    0.0    0.0  0.000000    0.0 -0.234494    0.0    0.0    0.0    0.0    0.0   \n",
       "6    0.0    0.0 -0.962375    0.0  0.000000    0.0    0.0    0.0    0.0    0.0   \n",
       "7    0.0    0.0  0.000000    0.0  1.632069    0.0    0.0    0.0    0.0    0.0   \n",
       "8    0.0    0.0  0.000000    0.0  0.858029    0.0    0.0    0.0    0.0    0.0   \n",
       "\n",
       "  action is_optimal_action  epsilon  index  row_total_reward  \\\n",
       "4  4_arm                 0      0.2      3          0.643719   \n",
       "5  4_arm                 1      0.2      3         -0.234494   \n",
       "6  2_arm                 0      0.2      3         -0.962375   \n",
       "7  4_arm                 0      0.2      3          1.632069   \n",
       "8  4_arm                 0      0.2      3          0.858029   \n",
       "\n",
       "   cumsum_total_reward  \n",
       "4            -0.326920  \n",
       "5            -0.561414  \n",
       "6            -1.523789  \n",
       "7             0.108280  \n",
       "8             0.966310  "
      ]
     },
     "execution_count": 12,
     "metadata": {},
     "output_type": "execute_result"
    }
   ],
   "source": [
    "df.head()"
   ]
  },
  {
   "cell_type": "code",
   "execution_count": 13,
   "metadata": {},
   "outputs": [
    {
     "name": "stdout",
     "output_type": "stream",
     "text": [
      "<class 'pandas.core.frame.DataFrame'>\n",
      "Int64Index: 1990000 entries, 4 to 998\n",
      "Data columns (total 16 columns):\n",
      "0_arm                  float64\n",
      "1_arm                  float64\n",
      "2_arm                  float64\n",
      "3_arm                  float64\n",
      "4_arm                  float64\n",
      "5_arm                  float64\n",
      "6_arm                  float64\n",
      "7_arm                  float64\n",
      "8_arm                  float64\n",
      "9_arm                  float64\n",
      "action                 object\n",
      "is_optimal_action      object\n",
      "epsilon                float64\n",
      "index                  int64\n",
      "row_total_reward       float64\n",
      "cumsum_total_reward    float64\n",
      "dtypes: float64(13), int64(1), object(2)\n",
      "memory usage: 258.1+ MB\n"
     ]
    }
   ],
   "source": [
    "df.info()"
   ]
  },
  {
   "cell_type": "code",
   "execution_count": null,
   "metadata": {},
   "outputs": [],
   "source": []
  }
 ],
 "metadata": {
  "kernelspec": {
   "display_name": "Python 3",
   "language": "python",
   "name": "python3"
  },
  "language_info": {
   "codemirror_mode": {
    "name": "ipython",
    "version": 3
   },
   "file_extension": ".py",
   "mimetype": "text/x-python",
   "name": "python",
   "nbconvert_exporter": "python",
   "pygments_lexer": "ipython3",
   "version": "3.7.4"
  }
 },
 "nbformat": 4,
 "nbformat_minor": 4
}
